{
 "cells": [
  {
   "cell_type": "code",
   "execution_count": 20,
   "id": "f8e5845d-155f-4900-9c18-2299e1b93b67",
   "metadata": {},
   "outputs": [],
   "source": [
    "'''Q1, Create a vehicle class with an init method having instance variables as name_of_vehicle, max_speed\n",
    "and average_of_vehicle.'''\n",
    "class vehicle:\n",
    "    def __init__(self, name_of_vehicle, max_speed,avg_of_vehicle):\n",
    "        self.name_of_vehicle = name_of_vehicle\n",
    "        self.max_speed = max_speed\n",
    "        self.avg_of_vehicle = avg_of_vehicle\n",
    "    def return_car_details(self):\n",
    "        return self.max_speed,self.avg_of_vehicle, self.name_of_vehicle\n",
    "    "
   ]
  },
  {
   "cell_type": "code",
   "execution_count": 23,
   "id": "602b2877-dfb5-4ea2-aaaa-0eba2fc17afc",
   "metadata": {},
   "outputs": [],
   "source": [
    "car = vehicle(\"defender\", 250, 12)"
   ]
  },
  {
   "cell_type": "code",
   "execution_count": 24,
   "id": "0aa88d1a-95de-4d3c-b972-1c6ad77069e2",
   "metadata": {},
   "outputs": [
    {
     "data": {
      "text/plain": [
       "(250, 12, 'defender')"
      ]
     },
     "execution_count": 24,
     "metadata": {},
     "output_type": "execute_result"
    }
   ],
   "source": [
    "car.return_car_details()"
   ]
  },
  {
   "cell_type": "code",
   "execution_count": 25,
   "id": "38ef7abf-3cc5-45d0-9fd6-d309a4de7d5e",
   "metadata": {},
   "outputs": [],
   "source": [
    "'''Q2. Create a child class car from the vehicle class created in Que 1, which will inherit the vehicle class.\n",
    "Create a method named seating_capacity which takes capacity as an argument and returns the name of\n",
    "the vehicle and its seating capacity.'''\n",
    "class class2(vehicle):\n",
    "    pass\n",
    "    "
   ]
  },
  {
   "cell_type": "code",
   "execution_count": 27,
   "id": "81c7d20f-35c3-4dfb-90a4-de952883e0a3",
   "metadata": {},
   "outputs": [],
   "source": [
    "obj_class2 = class2(\"defender\", 250, 12)"
   ]
  },
  {
   "cell_type": "code",
   "execution_count": 28,
   "id": "025e4b45-7584-43c4-aaf5-601f7a8ae421",
   "metadata": {},
   "outputs": [
    {
     "data": {
      "text/plain": [
       "(250, 12, 'defender')"
      ]
     },
     "execution_count": 28,
     "metadata": {},
     "output_type": "execute_result"
    }
   ],
   "source": [
    "obj_class2.return_car_details()"
   ]
  },
  {
   "cell_type": "code",
   "execution_count": 22,
   "id": "c4609e3f-26a5-4fcf-a02c-7952a748ed9e",
   "metadata": {},
   "outputs": [
    {
     "name": "stdin",
     "output_type": "stream",
     "text": [
      " 4\n"
     ]
    },
    {
     "name": "stdout",
     "output_type": "stream",
     "text": [
      "this is suv  4\n"
     ]
    }
   ],
   "source": [
    "num = int(input())\n",
    "if num == 1:\n",
    "    print('this is bike'  ,num)\n",
    "elif num == 2:\n",
    "    print('this is coupe' , num)\n",
    "elif num == 3:\n",
    "    print('this is sedan',num)\n",
    "elif num == 4:\n",
    "    print('this is suv ',num)\n",
    "elif num == 5:\n",
    "    print ('this is muv ',num)\n",
    "else :\n",
    "    print('this is out of context')"
   ]
  },
  {
   "cell_type": "code",
   "execution_count": 46,
   "id": "f1c131d7-7012-415b-8b8d-b3d78a42c667",
   "metadata": {},
   "outputs": [],
   "source": [
    "'''Q3. What is multiple inheritance? Write a python code to demonstrate multiple inheritance.'''\n",
    "'''an object or class can inherit features from more than one parent object or parent class'''\n",
    "class class1:\n",
    "    def test_class1(self):\n",
    "        \n",
    "        return 'class1'\n",
    "    \n"
   ]
  },
  {
   "cell_type": "code",
   "execution_count": 47,
   "id": "a82abade-cd02-484a-95f7-3190cd99b7a4",
   "metadata": {},
   "outputs": [],
   "source": [
    "class class2:\n",
    "    def test_class2(self):\n",
    "        return 'class2'"
   ]
  },
  {
   "cell_type": "code",
   "execution_count": 48,
   "id": "313f95a3-124f-4306-a9da-68857b088479",
   "metadata": {},
   "outputs": [],
   "source": [
    "class class3(class1,class2):\n",
    "    \n",
    "    pass"
   ]
  },
  {
   "cell_type": "code",
   "execution_count": 49,
   "id": "fac60d04-8c21-4149-8f94-e6aba05a68ff",
   "metadata": {},
   "outputs": [],
   "source": [
    "obj_class3= class3()"
   ]
  },
  {
   "cell_type": "code",
   "execution_count": 52,
   "id": "fb9a2e0f-e145-4f14-a9ce-177271ee0b5e",
   "metadata": {},
   "outputs": [
    {
     "data": {
      "text/plain": [
       "'class1'"
      ]
     },
     "execution_count": 52,
     "metadata": {},
     "output_type": "execute_result"
    }
   ],
   "source": [
    "obj_class3.test_class1()"
   ]
  },
  {
   "cell_type": "code",
   "execution_count": 53,
   "id": "fcb840f5-29ac-42db-afb7-52f222236586",
   "metadata": {},
   "outputs": [
    {
     "data": {
      "text/plain": [
       "'class2'"
      ]
     },
     "execution_count": 53,
     "metadata": {},
     "output_type": "execute_result"
    }
   ],
   "source": [
    "obj_class3.test_class2()"
   ]
  },
  {
   "cell_type": "code",
   "execution_count": 72,
   "id": "df654855-1df6-4821-9597-105aad124b97",
   "metadata": {},
   "outputs": [],
   "source": [
    "'''Q4. What are getter and setter in python? Create a class and create a getter and a setter method in this\n",
    "class.'''\n",
    "'''In Python, getters and setters are not the same as those in other object-oriented programming languages.\n",
    "Basically, the main purpose of using getters and setters in object-oriented programs is to ensure data encapsulation'''\n",
    "class car:\n",
    "    def __init__(self ,speed):\n",
    "        self.speed = speed\n",
    "    def set_speed(self,speed):\n",
    "        self.speed = 0 if speed<0 else speed\n",
    "    def get_speed(self):\n",
    "        return self.speed\n",
    "    \n",
    "    "
   ]
  },
  {
   "cell_type": "code",
   "execution_count": 73,
   "id": "307a29db-97a9-49d2-937d-eb46f7030532",
   "metadata": {},
   "outputs": [],
   "source": [
    "c = car(150)"
   ]
  },
  {
   "cell_type": "code",
   "execution_count": 74,
   "id": "4ee128c3-549c-46f2-8060-d5f75d5ac59f",
   "metadata": {},
   "outputs": [],
   "source": [
    "c.set_speed(250)"
   ]
  },
  {
   "cell_type": "code",
   "execution_count": 75,
   "id": "9e219a7a-92df-4896-b88e-df035d99dbc6",
   "metadata": {},
   "outputs": [
    {
     "data": {
      "text/plain": [
       "250"
      ]
     },
     "execution_count": 75,
     "metadata": {},
     "output_type": "execute_result"
    }
   ],
   "source": [
    "c.get_speed()"
   ]
  },
  {
   "cell_type": "code",
   "execution_count": null,
   "id": "c252f58e-bbcc-4906-804a-99b07187738a",
   "metadata": {},
   "outputs": [],
   "source": [
    "'''Q5.What is method overriding in python? Write a python code to demonstrate method overriding.'''\n",
    "'''Method overriding is an ability of any object-oriented programming language that allows a subclass or child class to provide a specific\n",
    "implementation of a method that is already provided by one of its super-classes or parent classes.'''\n",
    "class Parent():  \n",
    "    \n",
    "    def __init__(self):  \n",
    "        self.value = \"Inside Parent\"  \n",
    "    # showing a parents method  \n",
    "    def show(self):  \n",
    "        print(self.value)         \n",
    "# Defining a child class  \n",
    "class Child(Parent):      \n",
    "    # Constructor  \n",
    "    def __init__(self):  \n",
    "        self.value = \"Inside Child\"       \n",
    "    # showing the child's method  \n",
    "    def show(self):  \n",
    "        print(self.value)  "
   ]
  }
 ],
 "metadata": {
  "kernelspec": {
   "display_name": "Python 3 (ipykernel)",
   "language": "python",
   "name": "python3"
  },
  "language_info": {
   "codemirror_mode": {
    "name": "ipython",
    "version": 3
   },
   "file_extension": ".py",
   "mimetype": "text/x-python",
   "name": "python",
   "nbconvert_exporter": "python",
   "pygments_lexer": "ipython3",
   "version": "3.10.8"
  }
 },
 "nbformat": 4,
 "nbformat_minor": 5
}
